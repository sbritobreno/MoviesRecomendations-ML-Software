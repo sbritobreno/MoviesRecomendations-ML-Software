{
 "cells": [
  {
   "cell_type": "markdown",
   "metadata": {},
   "source": [
    "### Data Preprocessing"
   ]
  },
  {
   "cell_type": "code",
   "execution_count": null,
   "metadata": {},
   "outputs": [],
   "source": [
    "import pandas as pd\n",
    "\n",
    "# User data\n",
    "user_data =   {\n",
    "    \"Id\": 1,\n",
    "    \"Name\": \"Breno Brito\",\n",
    "    \"Username\": \"BBrito\",\n",
    "    \"Password\": \"1234\",\n",
    "    \"Mood\": \"Relaxed\",\n",
    "    \"Action\": 5,\n",
    "    \"Adventure\": 3,\n",
    "    \"Drama\": 0,\n",
    "    \"Horror\": 1,\n",
    "    \"Fantasy\": 0,\n",
    "    \"Crime\": 0,\n",
    "    \"Mystery\": 0,\n",
    "    \"Animation\": 0,\n",
    "    \"Thriller\": 0,\n",
    "    \"Musical\": 0,\n",
    "    \"Biography\": 0,\n",
    "    \"Romance\": 0,\n",
    "    \"Documentary\": 0,\n",
    "    \"TotalMoviesWatched\": 9,\n",
    "    \"AverageYear\": 2008,\n",
    "    \"AverageRate\": 67,\n",
    "    \"MoviesWatched\": [1, 3, 4, 10, 16, 122, 136, 149, 38]\n",
    "  }\n",
    "\n",
    "\n",
    "# Load the movie dataset\n",
    "movies_df = pd.read_csv(\"../data/movies.csv\")\n",
    "\n",
    "# Display the first few rows of the movie dataset\n",
    "print(\"Movie dataset:\")\n",
    "print(movies_df.head())\n",
    "\n",
    "# Check for missing values in the movie dataset\n",
    "missing_values = movies_df.isnull().sum()\n",
    "print(\"\\nMissing values in movie dataset:\")\n",
    "print(missing_values)\n",
    "\n",
    "# Handle missing values (if any)\n",
    "movies_df.fillna(\"Unknown\", inplace=True)\n",
    "\n",
    "# Display the preprocessed movie dataset\n",
    "print(\"\\nPreprocessed movie dataset:\")\n",
    "print(movies_df.head())\n"
   ]
  },
  {
   "cell_type": "markdown",
   "metadata": {},
   "source": [
    "### Define Mood-Genre Associations"
   ]
  },
  {
   "cell_type": "code",
   "execution_count": null,
   "metadata": {},
   "outputs": [],
   "source": [
    "# Define mood-genre associations\n",
    "mood_genre_associations = {\n",
    "    \"Happy\": [\"Comedy\", \"Romance\", \"Animation\"],\n",
    "    \"Sad\": [\"Drama\", \"Romance\", \"Biography\"],\n",
    "    \"Angry\": [\"Action\", \"Crime\", \"Thriller\"],\n",
    "    \"Excited\": [\"Adventure\", \"Action\", \"Fantasy\"],\n",
    "    \"Anxious\": [\"Thriller\", \"Horror\", \"Mystery\"],\n",
    "    \"Relaxed\": [\"Comedy\", \"Drama\", \"Documentary\"],\n",
    "    \"Grateful\": [\"Musical\", \"Biography\", \"Romance\"]\n",
    "}"
   ]
  },
  {
   "cell_type": "markdown",
   "metadata": {},
   "source": [
    "### Calculate Genre Percentages"
   ]
  },
  {
   "cell_type": "code",
   "execution_count": null,
   "metadata": {},
   "outputs": [],
   "source": [
    "# Calculate total movies watched\n",
    "total_movies_watched = user_data[\"TotalMoviesWatched\"]\n",
    "\n",
    "# Calculate genre percentages individually\n",
    "genre_percentages = {}\n",
    "for genre, count in user_data.items():\n",
    "    if genre in [\"Id\", \"Name\", \"Username\", \"Password\", \"Mood\", \"TotalMoviesWatched\", \"AverageYear\", \"AverageRate\", \"MoviesWatched\"]:\n",
    "        continue\n",
    "    genre_percentage = (count / total_movies_watched) * 100\n",
    "    genre_percentages[genre] = genre_percentage\n",
    "\n",
    "# Display genre percentages\n",
    "print(\"Genre Percentages:\")\n",
    "for genre, percentage in genre_percentages.items():\n",
    "    print(f\"{genre}: {percentage:.2f}%\")"
   ]
  },
  {
   "cell_type": "markdown",
   "metadata": {},
   "source": [
    "### Normalize Criteria"
   ]
  },
  {
   "cell_type": "code",
   "execution_count": null,
   "metadata": {},
   "outputs": [],
   "source": [
    "# Define min-max normalization function\n",
    "def min_max_normalize(value, min_val, max_val):\n",
    "    return (value - min_val) / (max_val - min_val)\n",
    "\n",
    "# Normalize mood (not necessary as it's a categorical variable)\n",
    "\n",
    "# Normalize genre percentages\n",
    "genre_percentages = {genre: user_data[genre] / user_data[\"TotalMoviesWatched\"] for genre in user_data.keys() \n",
    "                     if genre != \"Id\" \n",
    "                     and genre != \"Name\" \n",
    "                     and genre != \"Username\" \n",
    "                     and genre != \"Password\" \n",
    "                     and genre != \"Mood\" \n",
    "                     and genre != \"TotalMoviesWatched\"\n",
    "                     and genre != \"AverageYear\" \n",
    "                     and genre != \"AverageRate\" \n",
    "                     and genre != \"MoviesWatched\" }\n",
    "\n",
    "# Normalize average rate\n",
    "min_rate = 0  \n",
    "max_rate = 100 \n",
    "normalized_rate = min_max_normalize(user_data[\"AverageRate\"], min_rate, max_rate)\n",
    "\n",
    "# Normalize average year\n",
    "min_year = 2007 \n",
    "max_year = 2014  \n",
    "normalized_year = min_max_normalize(user_data[\"AverageYear\"], min_year, max_year)\n",
    "\n",
    "# Display normalized criteria\n",
    "print(\"Normalized Criteria:\")\n",
    "print(\"Genre Percentages:\", genre_percentages)\n",
    "print(\"Normalized Rate:\", normalized_rate)\n",
    "print(\"Normalized Year:\", normalized_year)\n"
   ]
  },
  {
   "cell_type": "markdown",
   "metadata": {},
   "source": [
    "### Apply Weights"
   ]
  },
  {
   "cell_type": "code",
   "execution_count": null,
   "metadata": {},
   "outputs": [],
   "source": [
    "# Predefined weights\n",
    "weights = {\n",
    "    \"Mood\": 0.2,\n",
    "    \"GenrePercentages\": 0.3,\n",
    "    \"AverageRate\": 0.4,\n",
    "    \"AverageYear\": 0.1\n",
    "}"
   ]
  },
  {
   "cell_type": "markdown",
   "metadata": {},
   "source": [
    "### Combine Criteria"
   ]
  },
  {
   "cell_type": "code",
   "execution_count": null,
   "metadata": {},
   "outputs": [],
   "source": [
    "# Function to combine weighted criteria for a movie\n",
    "def combine_criteria(movies_df, weights, user_data, mood_genre_associations):\n",
    "    composite_scores = []\n",
    "\n",
    "    for index, movie_data in movies_df.iterrows():\n",
    "        composite_score = 0\n",
    "        \n",
    "        # Relevant genres based on user's mood\n",
    "        user_mood = user_data[\"Mood\"]\n",
    "        relevant_genres = mood_genre_associations.get(user_mood, [])\n",
    "        \n",
    "        # Add composite score if the movie's genre is in the relevant genres\n",
    "        if movie_data[\"Genre\"] in relevant_genres:\n",
    "            composite_score += weights[\"Mood\"]\n",
    "        \n",
    "        # Multiply genre percentages by corresponding weights and add to composite score\n",
    "        genre = movie_data[\"Genre\"]\n",
    "        composite_score += genre_percentages[genre] * weights[\"GenrePercentages\"]\n",
    "\n",
    "        # Add movie rate to composite score\n",
    "        composite_score += movie_data[\"AudienceScore\"] / 100 * weights[\"AverageRate\"]\n",
    "\n",
    "        # Calculate the contribution of the average year and add to composite score\n",
    "        composite_score += (1 - abs(movie_data[\"Year\"] - user_data[\"AverageYear\"]) / (max_year - min_year)) * weights[\"AverageYear\"]\n",
    "        \n",
    "        composite_scores.append(composite_score)\n",
    "    \n",
    "    return composite_scores\n",
    "\n",
    "\n",
    "# Calculate composite scores for all movies\n",
    "composite_scores = combine_criteria(movies_df, weights, user_data, mood_genre_associations)\n",
    "\n",
    "# Add composite scores as a new column to the DataFrame\n",
    "movies_df['CompositeScore'] = composite_scores\n",
    "\n",
    "# Display composite scores\n",
    "print(\"Composite Scores:\", composite_scores)\n"
   ]
  },
  {
   "cell_type": "markdown",
   "metadata": {},
   "source": [
    "### Generate Recommendations"
   ]
  },
  {
   "cell_type": "code",
   "execution_count": null,
   "metadata": {},
   "outputs": [],
   "source": [
    "# Sort movies based on composite scores\n",
    "recommended_movies = movies_df.sort_values(by='CompositeScore', ascending=False)\n",
    "\n",
    "# Select top 10\n",
    "top_n_recommendations = recommended_movies.head(10)\n",
    "\n",
    "# Display recommended movies to the user\n",
    "print(\"Recommended Movies:\")\n",
    "for index, movie in top_n_recommendations.iterrows():\n",
    "    print(f\"{movie['Movie']} ({movie['Year']}), Genre: {movie['Genre']}, Audience Score: {movie['AudienceScore']}, Composite Score: {movie['CompositeScore']}\")\n",
    "\n"
   ]
  }
 ],
 "metadata": {
  "kernelspec": {
   "display_name": "base",
   "language": "python",
   "name": "python3"
  },
  "language_info": {
   "codemirror_mode": {
    "name": "ipython",
    "version": 3
   },
   "file_extension": ".py",
   "mimetype": "text/x-python",
   "name": "python",
   "nbconvert_exporter": "python",
   "pygments_lexer": "ipython3",
   "version": "3.11.4"
  }
 },
 "nbformat": 4,
 "nbformat_minor": 2
}
